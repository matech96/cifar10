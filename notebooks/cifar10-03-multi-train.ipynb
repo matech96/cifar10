{
 "cells": [
  {
   "cell_type": "code",
   "execution_count": 1,
   "metadata": {},
   "outputs": [],
   "source": [
    "import comet_ml\n",
    "import numpy as np"
   ]
  },
  {
   "cell_type": "code",
   "execution_count": 2,
   "metadata": {},
   "outputs": [],
   "source": [
    "comet_api = comet_ml.API(api_key=\"cgss7piePhyFPXRw1J2uUEjkQ\", rest_api_key=\"G9ts5ZxTui6k0ruDTtoQpqCkI\")\n",
    "experiments = comet_api.get(\"matech96/architecture-testing\")"
   ]
  },
  {
   "cell_type": "code",
   "execution_count": 9,
   "metadata": {},
   "outputs": [],
   "source": [
    "list2float = lambda l: float(l[0])\n",
    "list2int = lambda l: int(l[0])\n",
    "accs = [list2float(comet_api.get_experiment_metrics(experiment.key, 'acc')) for experiment in experiments]\n",
    "val_accs = [list2float(comet_api.get_experiment_metrics(experiment.key, 'val_acc')) for experiment in experiments]\n",
    "stop_epochs = [list2int(comet_api.get_experiment_parameters(experiment.key, 'curr_epoch')) for experiment in experiments]"
   ]
  },
  {
   "cell_type": "code",
   "execution_count": 11,
   "metadata": {},
   "outputs": [
    {
     "name": "stdout",
     "output_type": "stream",
     "text": [
      "Train accuracy mean: 94.81%, std: 0.26%, range: 0.70%\n",
      "Test accuracy mean: 81.15%, std: 0.43%, range: 1.15%\n",
      "Stop epoch mean: 616.20, std: 87.15, range: 221\n"
     ]
    }
   ],
   "source": [
    "names = ['Train accuracy', 'Test accuracy']\n",
    "for name, values in zip(names, [accs, val_accs]):\n",
    "    print(\"{} mean: {:.2f}%, std: {:.2f}%, range: {:.2f}%\".format(name, np.mean(values)*100, np.std(values)*100, np.max(values)*100 - np.min(values)*100))\n",
    "\n",
    "print(\"{} mean: {:.2f}, std: {:.2f}, range: {}\".format('Stop epoch', np.mean(stop_epochs), np.std(stop_epochs), np.max(stop_epochs) - np.min(stop_epochs)))"
   ]
  },
  {
   "cell_type": "code",
   "execution_count": null,
   "metadata": {},
   "outputs": [],
   "source": []
  }
 ],
 "metadata": {
  "kernelspec": {
   "display_name": "Python 3",
   "language": "python",
   "name": "python3"
  },
  "language_info": {
   "codemirror_mode": {
    "name": "ipython",
    "version": 3
   },
   "file_extension": ".py",
   "mimetype": "text/x-python",
   "name": "python",
   "nbconvert_exporter": "python",
   "pygments_lexer": "ipython3",
   "version": "3.6.8"
  }
 },
 "nbformat": 4,
 "nbformat_minor": 2
}
